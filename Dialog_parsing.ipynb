{
 "cells": [
  {
   "cell_type": "code",
   "execution_count": 1,
   "id": "5d263b4f",
   "metadata": {},
   "outputs": [],
   "source": [
    "import pandas as pd\n",
    "import numpy as np\n",
    "import re\n",
    "import nltk\n",
    "import pymorphy2"
   ]
  },
  {
   "cell_type": "code",
   "execution_count": 2,
   "id": "fd6d97db",
   "metadata": {},
   "outputs": [],
   "source": [
    "df = pd.read_csv('test_data.csv')"
   ]
  },
  {
   "cell_type": "code",
   "execution_count": 3,
   "id": "dc432bca",
   "metadata": {},
   "outputs": [
    {
     "data": {
      "text/plain": [
       "5    143\n",
       "0    109\n",
       "2     85\n",
       "1     55\n",
       "3     53\n",
       "4     35\n",
       "Name: dlg_id, dtype: int64"
      ]
     },
     "execution_count": 3,
     "metadata": {},
     "output_type": "execute_result"
    }
   ],
   "source": [
    "df.dlg_id.value_counts()"
   ]
  },
  {
   "cell_type": "code",
   "execution_count": 4,
   "id": "ea65361b",
   "metadata": {},
   "outputs": [
    {
     "data": {
      "text/html": [
       "<div>\n",
       "<style scoped>\n",
       "    .dataframe tbody tr th:only-of-type {\n",
       "        vertical-align: middle;\n",
       "    }\n",
       "\n",
       "    .dataframe tbody tr th {\n",
       "        vertical-align: top;\n",
       "    }\n",
       "\n",
       "    .dataframe thead th {\n",
       "        text-align: right;\n",
       "    }\n",
       "</style>\n",
       "<table border=\"1\" class=\"dataframe\">\n",
       "  <thead>\n",
       "    <tr style=\"text-align: right;\">\n",
       "      <th></th>\n",
       "      <th>dlg_id</th>\n",
       "      <th>line_n</th>\n",
       "      <th>role</th>\n",
       "      <th>text</th>\n",
       "    </tr>\n",
       "  </thead>\n",
       "  <tbody>\n",
       "    <tr>\n",
       "      <th>0</th>\n",
       "      <td>0</td>\n",
       "      <td>0</td>\n",
       "      <td>client</td>\n",
       "      <td>Алло</td>\n",
       "    </tr>\n",
       "    <tr>\n",
       "      <th>1</th>\n",
       "      <td>0</td>\n",
       "      <td>1</td>\n",
       "      <td>manager</td>\n",
       "      <td>Алло здравствуйте</td>\n",
       "    </tr>\n",
       "    <tr>\n",
       "      <th>2</th>\n",
       "      <td>0</td>\n",
       "      <td>2</td>\n",
       "      <td>client</td>\n",
       "      <td>Добрый день</td>\n",
       "    </tr>\n",
       "    <tr>\n",
       "      <th>3</th>\n",
       "      <td>0</td>\n",
       "      <td>3</td>\n",
       "      <td>manager</td>\n",
       "      <td>Меня зовут ангелина компания диджитал бизнес з...</td>\n",
       "    </tr>\n",
       "    <tr>\n",
       "      <th>4</th>\n",
       "      <td>0</td>\n",
       "      <td>4</td>\n",
       "      <td>client</td>\n",
       "      <td>Ага</td>\n",
       "    </tr>\n",
       "    <tr>\n",
       "      <th>...</th>\n",
       "      <td>...</td>\n",
       "      <td>...</td>\n",
       "      <td>...</td>\n",
       "      <td>...</td>\n",
       "    </tr>\n",
       "    <tr>\n",
       "      <th>475</th>\n",
       "      <td>5</td>\n",
       "      <td>138</td>\n",
       "      <td>manager</td>\n",
       "      <td>По поводу виджетов и с ними уже обсудите конкр...</td>\n",
       "    </tr>\n",
       "    <tr>\n",
       "      <th>476</th>\n",
       "      <td>5</td>\n",
       "      <td>139</td>\n",
       "      <td>manager</td>\n",
       "      <td>Все я вам высылаю счет и с вами на связи если ...</td>\n",
       "    </tr>\n",
       "    <tr>\n",
       "      <th>477</th>\n",
       "      <td>5</td>\n",
       "      <td>140</td>\n",
       "      <td>client</td>\n",
       "      <td>Спасибо спасибо</td>\n",
       "    </tr>\n",
       "    <tr>\n",
       "      <th>478</th>\n",
       "      <td>5</td>\n",
       "      <td>141</td>\n",
       "      <td>client</td>\n",
       "      <td>Да да тогда созвонимся ага спасибо вам давайте</td>\n",
       "    </tr>\n",
       "    <tr>\n",
       "      <th>479</th>\n",
       "      <td>5</td>\n",
       "      <td>142</td>\n",
       "      <td>manager</td>\n",
       "      <td>Ну до свидания хорошего вечера</td>\n",
       "    </tr>\n",
       "  </tbody>\n",
       "</table>\n",
       "<p>480 rows × 4 columns</p>\n",
       "</div>"
      ],
      "text/plain": [
       "     dlg_id  line_n     role  \\\n",
       "0         0       0   client   \n",
       "1         0       1  manager   \n",
       "2         0       2   client   \n",
       "3         0       3  manager   \n",
       "4         0       4   client   \n",
       "..      ...     ...      ...   \n",
       "475       5     138  manager   \n",
       "476       5     139  manager   \n",
       "477       5     140   client   \n",
       "478       5     141   client   \n",
       "479       5     142  manager   \n",
       "\n",
       "                                                  text  \n",
       "0                                                 Алло  \n",
       "1                                    Алло здравствуйте  \n",
       "2                                          Добрый день  \n",
       "3    Меня зовут ангелина компания диджитал бизнес з...  \n",
       "4                                                  Ага  \n",
       "..                                                 ...  \n",
       "475  По поводу виджетов и с ними уже обсудите конкр...  \n",
       "476  Все я вам высылаю счет и с вами на связи если ...  \n",
       "477                                    Спасибо спасибо  \n",
       "478     Да да тогда созвонимся ага спасибо вам давайте  \n",
       "479                     Ну до свидания хорошего вечера  \n",
       "\n",
       "[480 rows x 4 columns]"
      ]
     },
     "execution_count": 4,
     "metadata": {},
     "output_type": "execute_result"
    }
   ],
   "source": [
    "df"
   ]
  },
  {
   "cell_type": "markdown",
   "id": "077217fa",
   "metadata": {},
   "source": [
    "### Реплики с приветствием менеджера"
   ]
  },
  {
   "cell_type": "code",
   "execution_count": 5,
   "id": "4689340f",
   "metadata": {},
   "outputs": [],
   "source": [
    "def extract_greeting(dataframe)->list[tuple()]:\n",
    "    greeting_str = re.compile('здравствуйте|добрый день')\n",
    "    greeting_indeces = []\n",
    "    for idx, text in enumerate(dataframe.text):\n",
    "        if dataframe.role[idx] == 'client':\n",
    "            continue\n",
    "        if greeting_str.findall(text.lower()):\n",
    "            greeting_indeces.append((dataframe.dlg_id[idx], dataframe.line_n[idx]))\n",
    "    return greeting_indeces"
   ]
  },
  {
   "cell_type": "code",
   "execution_count": 6,
   "id": "028b726b",
   "metadata": {},
   "outputs": [
    {
     "name": "stdout",
     "output_type": "stream",
     "text": [
      "dlg_id - 0 line_n - 1 : Алло здравствуйте\n",
      "dlg_id - 1 line_n - 1 : Алло здравствуйте\n",
      "dlg_id - 2 line_n - 2 : Алло здравствуйте\n",
      "dlg_id - 3 line_n - 1 : Алло дмитрий добрый день\n"
     ]
    }
   ],
   "source": [
    "# test greeting\n",
    "greeting_indeces = extract_greeting(df)\n",
    "for dlg, line in greeting_indeces:\n",
    "    print('dlg_id -',dlg, 'line_n -', line, ':', \n",
    "          df[(df.dlg_id == dlg) & (df.line_n == line)].text.iloc[0])"
   ]
  },
  {
   "cell_type": "markdown",
   "id": "7ba0ea25",
   "metadata": {},
   "source": [
    "### Реплики с прощанием менеджера"
   ]
  },
  {
   "cell_type": "code",
   "execution_count": 7,
   "id": "dc7d6553",
   "metadata": {},
   "outputs": [],
   "source": [
    "def extract_goodbye(dataframe)->list[tuple()]:\n",
    "    goodbye_str = re.compile('всего хорошего|до свидания|всего доброго')\n",
    "    goodbye_indeces = []\n",
    "    for idx, text in enumerate(dataframe.text):\n",
    "        if dataframe.role[idx] == 'client':\n",
    "            continue\n",
    "        if goodbye_str.findall(text.lower()):\n",
    "            goodbye_indeces.append((dataframe.dlg_id[idx], dataframe.line_n[idx]))\n",
    "    return goodbye_indeces"
   ]
  },
  {
   "cell_type": "code",
   "execution_count": 8,
   "id": "c6fedaf0",
   "metadata": {},
   "outputs": [
    {
     "name": "stdout",
     "output_type": "stream",
     "text": [
      "dlg_id - 0 line_n - 108 : Всего хорошего до свидания\n",
      "dlg_id - 1 line_n - 53 : Угу да вижу я эту почту хорошо тогда исправлю на эту будем ждать ответа всего хорошего\n",
      "dlg_id - 1 line_n - 54 : До свидания\n",
      "dlg_id - 3 line_n - 51 : Угу все хорошо да понедельника тогда всего доброго\n",
      "dlg_id - 4 line_n - 33 : Во вторник все ну с вами да тогда до вторника до свидания\n",
      "dlg_id - 5 line_n - 142 : Ну до свидания хорошего вечера\n"
     ]
    }
   ],
   "source": [
    "# test goodbye\n",
    "goodbye_indeces = extract_goodbye(df)\n",
    "for dlg, line in goodbye_indeces:\n",
    "    print('dlg_id -',dlg, 'line_n -', line, ':', \n",
    "          df[(df.dlg_id == dlg) & (df.line_n == line)].text.iloc[0])"
   ]
  },
  {
   "cell_type": "markdown",
   "id": "b93ff6f1",
   "metadata": {},
   "source": [
    "### Менеджер представил себя"
   ]
  },
  {
   "cell_type": "code",
   "execution_count": 9,
   "id": "40615275",
   "metadata": {},
   "outputs": [],
   "source": [
    "def extrant_manager_introduce_himself(dataframe)->list[tuple()]:\n",
    "    intr_hmslf_str = re.compile(' это | зовут | звать ')\n",
    "    mngr_intr_hmslf_indeces = []\n",
    "    for idx, text in enumerate(dataframe.text):\n",
    "        if dataframe.line_n[idx] > 3:\n",
    "            continue\n",
    "        if dataframe.role[idx] == 'client':\n",
    "            continue\n",
    "        if intr_hmslf_str.findall(text.lower()):\n",
    "            mngr_intr_hmslf_indeces.append((dataframe.dlg_id[idx], dataframe.line_n[idx]))\n",
    "    return mngr_intr_hmslf_indeces"
   ]
  },
  {
   "cell_type": "code",
   "execution_count": 10,
   "id": "5bcb3f5c",
   "metadata": {},
   "outputs": [
    {
     "name": "stdout",
     "output_type": "stream",
     "text": [
      "dlg_id - 0 line_n - 3 : Меня зовут ангелина компания диджитал бизнес звоним вам по поводу продления лицензии а мы с серым у вас скоро срок заканчивается\n",
      "dlg_id - 1 line_n - 2 : Меня зовут ангелина компания диджитал бизнес звоню вам по поводу продления а мы сели обратила внимание что у вас срок заканчивается\n",
      "dlg_id - 2 line_n - 3 : Меня зовут ангелина компания диджитал бизнес звоню вам по поводу продления лицензии а мастера мы с вами сотрудничали по видео там\n",
      "dlg_id - 3 line_n - 2 : Добрый меня максим зовут компания китобизнес удобно говорить\n",
      "dlg_id - 5 line_n - 1 : Да это анастасия\n"
     ]
    }
   ],
   "source": [
    "# test manager introduce himself\n",
    "mngr_intr_hmslf_indeces = extrant_manager_introduce_himself(df)\n",
    "for dlg, line in mngr_intr_hmslf_indeces:\n",
    "    print('dlg_id -',dlg, 'line_n -', line, ':', \n",
    "          df[(df.dlg_id == dlg) & (df.line_n == line)].text.iloc[0])"
   ]
  },
  {
   "cell_type": "markdown",
   "id": "72264b68",
   "metadata": {},
   "source": [
    "### Имя менеджера"
   ]
  },
  {
   "cell_type": "code",
   "execution_count": 11,
   "id": "094efecd",
   "metadata": {},
   "outputs": [],
   "source": [
    "def extract_manager_name(dataframe, mngr_intr_hmslf_indeces)->dict:\n",
    "    # возвращает словарь {диалог: имя менеджера}\n",
    "    manager_name = {}\n",
    "    # probability score threshold\n",
    "    prob_thresh = 0.4\n",
    "    morph = pymorphy2.MorphAnalyzer()\n",
    "    for dlg, line in mngr_intr_hmslf_indeces:\n",
    "        text = dataframe[(dataframe.dlg_id == dlg) & (dataframe.line_n == line)].text.iloc[0]\n",
    "        for word in nltk.word_tokenize(text):\n",
    "            for p in morph.parse(word):\n",
    "                if 'Name' in p.tag and p.score >= prob_thresh:\n",
    "                    manager_name[dlg] = word.capitalize()\n",
    "    return manager_name"
   ]
  },
  {
   "cell_type": "code",
   "execution_count": 12,
   "id": "f419d757",
   "metadata": {},
   "outputs": [
    {
     "name": "stdout",
     "output_type": "stream",
     "text": [
      "{0: 'Ангелина', 1: 'Ангелина', 2: 'Ангелина', 3: 'Максим', 5: 'Анастасия'}\n"
     ]
    }
   ],
   "source": [
    "# test\n",
    "d = extract_manager_name(df, mngr_intr_hmslf_indeces)\n",
    "print(d)"
   ]
  },
  {
   "cell_type": "markdown",
   "id": "c4b6f7ab",
   "metadata": {},
   "source": [
    "### Название компании"
   ]
  },
  {
   "cell_type": "code",
   "execution_count": 13,
   "id": "73656821",
   "metadata": {},
   "outputs": [],
   "source": [
    "def extract_name_company(dataframe, mngr_intr_hmslf_indeces)->dict:\n",
    "    company_name_str = re.compile('компания\\s\\w*\\s\\w*')\n",
    "    company_name = {}\n",
    "    for dlg, line in mngr_intr_hmslf_indeces:\n",
    "        text = dataframe[(dataframe.dlg_id == dlg) & (dataframe.line_n == line)].text.iloc[0]\n",
    "        result = company_name_str.findall(text.lower())\n",
    "        if result:\n",
    "            company_name[dlg] = result\n",
    "    return company_name"
   ]
  },
  {
   "cell_type": "code",
   "execution_count": 14,
   "id": "d7137994",
   "metadata": {},
   "outputs": [
    {
     "name": "stdout",
     "output_type": "stream",
     "text": [
      "{0: ['компания диджитал бизнес'], 1: ['компания диджитал бизнес'], 2: ['компания диджитал бизнес'], 3: ['компания китобизнес удобно']}\n"
     ]
    }
   ],
   "source": [
    "print(extract_name_company(df, mngr_intr_hmslf_indeces))"
   ]
  },
  {
   "cell_type": "markdown",
   "id": "ddd05353",
   "metadata": {},
   "source": [
    "### Проверка что менеджер поздоровался и попрощался в диалоге"
   ]
  },
  {
   "cell_type": "code",
   "execution_count": 15,
   "id": "2198d5bc",
   "metadata": {},
   "outputs": [],
   "source": [
    "def is_polite_manager(dataframe):\n",
    "    # Возвращает словарь {номер диалога: True если поприветсвовал и попрощался, иначе False}\n",
    "    dlg1 = set()\n",
    "    dlg2 = set()\n",
    "    result = {}\n",
    "    for dlg, _ in extract_greeting(dataframe):\n",
    "        dlg1.add(dlg)\n",
    "    for dlg, _ in extract_goodbye(dataframe):\n",
    "        dlg2.add(dlg)\n",
    "    for el in dlg1:\n",
    "        if el in dlg2:\n",
    "            result[el] = True\n",
    "        else: \n",
    "            result[el] = False\n",
    "    return result"
   ]
  },
  {
   "cell_type": "code",
   "execution_count": 16,
   "id": "95075f8f",
   "metadata": {},
   "outputs": [
    {
     "data": {
      "text/plain": [
       "{0: True, 1: True, 2: False, 3: True}"
      ]
     },
     "execution_count": 16,
     "metadata": {},
     "output_type": "execute_result"
    }
   ],
   "source": [
    "is_polite_manager(df)"
   ]
  },
  {
   "cell_type": "code",
   "execution_count": null,
   "id": "002db85c",
   "metadata": {},
   "outputs": [],
   "source": []
  }
 ],
 "metadata": {
  "kernelspec": {
   "display_name": "Python 3 (ipykernel)",
   "language": "python",
   "name": "python3"
  },
  "language_info": {
   "codemirror_mode": {
    "name": "ipython",
    "version": 3
   },
   "file_extension": ".py",
   "mimetype": "text/x-python",
   "name": "python",
   "nbconvert_exporter": "python",
   "pygments_lexer": "ipython3",
   "version": "3.9.12"
  }
 },
 "nbformat": 4,
 "nbformat_minor": 5
}
